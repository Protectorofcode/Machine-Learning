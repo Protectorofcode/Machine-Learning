{
 "cells": [
  {
   "cell_type": "code",
   "execution_count": null,
   "metadata": {},
   "outputs": [],
   "source": [
    "\"\"\"\n",
    "Normalization Wikipedia: https://en.wikipedia.org/wiki/Normalization\n",
    "Normalization is the process of converting numerical data to a standard range of values.\n",
    "This range is typically between [0, 1] or [-1, 1]. The equation for normalization is\n",
    "x_norm = (x - x_min)/(x_max - x_min) where x_norm is the normalized value, x is the\n",
    "value, x_min is the minimum value within the column or list of data, and x_max is the\n",
    "maximum value within the column or list of data. Normalization is used to speed up the\n",
    "training of data and put all of the data on a similar scale. This is useful because\n",
    "variance in the range of values of a dataset can heavily impact optimization\n",
    "(particularly Gradient Descent).\n",
    "\n"
    "Standardization Wikipedia: https://en.wikipedia.org/wiki/Standardization\n",
    "Standardization is the process of converting numerical data to a normally distributed\n",
    "range of values. This range will have a mean of 0 and standard deviation of 1. This is\n",
    "also known as z-score normalization. The equation for standardization is\n",
    "x_std = (x - mu)/(sigma) where mu is the mean of the column or list of values and sigma\n",
    "is the standard deviation of the column or list of values.\n",
    "\n"
    "Choosing between Normalization & Standardization is more of an art of a science, but it\n",
    "is often recommended to run experiments with both to see which performs better.\n",
    "Additionally, a few rules of thumb are:\n",
    "    1. gaussian (normal) distributions work better with standardization\n",
    "    2. non-gaussian (non-normal) distributions work better with normalization\n",
    "    3. If a column or list of values has extreme values / outliers, use standardization\n",
    "\"\"\""
   ]
  },
  {
   "cell_type": "code",
   "execution_count": null,
   "metadata": {},
   "outputs": [],
   "source": [
    "import numpy as np"
   ]
  },
  {
   "cell_type": "code",
   "execution_count": 11,
   "metadata": {},
   "outputs": [],
   "source": [
    "\n",
    "\n",
    "def normalization(data: list, ndigits: int) -> list:\n",
    "    \"\"\"\n",
    "    Returns a normalized list of values\n",
    "    \"\"\"\n",
    "    x_min = min(data)\n",
    "    x_max = max(data)\n",
    "    \n",
    "    # normalize data\n",
    "    return [round((x - x_min) / (x_max - x_min), ndigits) for x in data]"
   ]
  },
  {
   "cell_type": "code",
   "execution_count": 12,
   "metadata": {},
   "outputs": [
    {
     "data": {
      "text/plain": [
       "[0.0, 0.0408, 0.5918, 1.0]"
      ]
     },
     "execution_count": 12,
     "metadata": {},
     "output_type": "execute_result"
    }
   ],
   "source": [
    "normalization([1, 3, 30, 50], 4)"
   ]
  },
  {
   "cell_type": "code",
   "execution_count": 15,
   "metadata": {},
   "outputs": [],
   "source": [
    "def standardization(data: list, ndigits: int) -> list:\n",
    "    \"\"\"\n",
    "    Returns a standardized list of values\n",
    "    \"\"\"\n",
    "\n",
    "    mu = np.mean(data)\n",
    "    sigma = np.std(data)\n",
    "    \n",
    "    # standardize data\n",
    "    return [round((x - mu) / (sigma), ndigits) for x in data]"
   ]
  },
  {
   "cell_type": "code",
   "execution_count": 16,
   "metadata": {},
   "outputs": [
    {
     "data": {
      "text/plain": [
       "[-0.9859, -0.8873, 0.4437, 1.4296]"
      ]
     },
     "execution_count": 16,
     "metadata": {},
     "output_type": "execute_result"
    }
   ],
   "source": [
    "standardization([1, 3, 30, 50], 4)"
   ]
  },
  {
   "cell_type": "code",
   "execution_count": null,
   "metadata": {},
   "outputs": [],
   "source": []
  }
 ],
 "metadata": {
  "kernelspec": {
   "display_name": "Python 3",
   "language": "python",
   "name": "python3"
  },
  "language_info": {
   "codemirror_mode": {
    "name": "ipython",
    "version": 3
   },
   "file_extension": ".py",
   "mimetype": "text/x-python",
   "name": "python",
   "nbconvert_exporter": "python",
   "pygments_lexer": "ipython3",
   "version": "3.7.1"
  }
 },
 "nbformat": 4,
 "nbformat_minor": 2
}
